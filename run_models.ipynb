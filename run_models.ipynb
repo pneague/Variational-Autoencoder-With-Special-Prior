{
 "cells": [
  {
   "cell_type": "markdown",
   "metadata": {},
   "source": [
    "# Project AI \n",
    "This script runs three types of models for the discrete latent space of a VAE: Gaussian, Gumbel-Softmax, and Logit-normal. The Logit-normal is run for different hyperparameter settings of the prior."
   ]
  },
  {
   "cell_type": "code",
   "execution_count": null,
   "metadata": {},
   "outputs": [],
   "source": [
    "# Import required sources.\n",
    "%pylab inline\n",
    "import torch\n",
    "from torchvision import datasets, transforms\n",
    "from torch.autograd import Variable\n",
    "from torch import nn, optim\n",
    "from VAE import *\n",
    "from train import *\n",
    "import numpy as np\n",
    "from collections import *\n",
    "import random\n",
    "import pickle\n",
    "import os"
   ]
  },
  {
   "cell_type": "markdown",
   "metadata": {},
   "source": [
    "## Setting parameters and loading data"
   ]
  },
  {
   "cell_type": "code",
   "execution_count": null,
   "metadata": {},
   "outputs": [],
   "source": [
    "# set hyperparameters\n",
    "latent_dims = [2, 4, 8, 20, 40]\n",
    "variances = [0.32, 0.56, 1., 1.78]\n",
    "variance_tags = [32, 56, 1, 178]\n",
    "epochs = 1\n",
    "\n",
    "# Load data\n",
    "train_data = datasets.MNIST('../data', train=True, download=True,\n",
    "                   transform=transforms.ToTensor())\n",
    "\n",
    "# Make model directory\n",
    "if not os.path.exists('models'):\n",
    "    os.makedirs('models')\n",
    "if not os.path.exists('models/gumbel'):\n",
    "    os.makedirs('models/gumbel')\n",
    "if not os.path.exists('models/gauss'):\n",
    "    os.makedirs('models/gauss')\n",
    "if not os.path.exists('models/logit'):\n",
    "    os.makedirs('models/logit')"
   ]
  },
  {
   "cell_type": "markdown",
   "metadata": {},
   "source": [
    "## Running the Gaussian models"
   ]
  },
  {
   "cell_type": "code",
   "execution_count": null,
   "metadata": {
    "scrolled": true
   },
   "outputs": [],
   "source": [
    "for dim in latent_dims:\n",
    "\n",
    "    VAE, loss, z, KL, log_bern = run_train(dim, epochs, 'Gaussian', train_data, 1e-3)\n",
    "    pickle.dump([VAE, loss, z, KL, log_bern], open('models/gauss/gauss{}.p'.format(dim), 'wb'))\n",
    "    del VAE, loss, z, KL, log_bern"
   ]
  },
  {
   "cell_type": "markdown",
   "metadata": {},
   "source": [
    "## Running the Gumbel-Softmax models"
   ]
  },
  {
   "cell_type": "code",
   "execution_count": null,
   "metadata": {},
   "outputs": [],
   "source": [
    "for dim in latent_dims:\n",
    "\n",
    "    VAE, loss, z, KL, log_bern = run_train(dim, epochs, 'Gumbel', train_data, 1e-3)\n",
    "    pickle.dump([VAE, loss, z, KL, log_bern], open('models/gumbel/gumbel{}.p'.format(dim), 'wb'))\n",
    "    del VAE, loss, z, KL, log_bern"
   ]
  },
  {
   "cell_type": "markdown",
   "metadata": {},
   "source": [
    "## Running the Logit-normal models with varying priors"
   ]
  },
  {
   "cell_type": "code",
   "execution_count": null,
   "metadata": {},
   "outputs": [],
   "source": [
    "for dim in latent_dims:\n",
    "    for (var, label) in zip(variances, variance_tags):\n",
    "        VAE, loss, z, KL, log_bern = run_train(dim, epochs, 'logit', train_data, 1e-3, variance=var)\n",
    "        pickle.dump([VAE, loss, z, KL, log_bern], open('models/logit/logit{}_{}.p'.format(dim, label), 'wb'))\n",
    "        del VAE, loss, z, KL, log_bern"
   ]
  }
 ],
 "metadata": {
  "kernelspec": {
   "display_name": "Python 3",
   "language": "python",
   "name": "python3"
  },
  "language_info": {
   "codemirror_mode": {
    "name": "ipython",
    "version": 3
   },
   "file_extension": ".py",
   "mimetype": "text/x-python",
   "name": "python",
   "nbconvert_exporter": "python",
   "pygments_lexer": "ipython3",
   "version": "3.6.4"
  }
 },
 "nbformat": 4,
 "nbformat_minor": 2
}
